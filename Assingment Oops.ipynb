{
 "cells": [
  {
   "cell_type": "code",
   "execution_count": null,
   "id": "13bf1781-a159-4d33-a7bd-f8972bc24cbb",
   "metadata": {},
   "outputs": [],
   "source": [
    "# Ans 1\n",
    "\n",
    "Class - class can be defined as a blueprint that describe the state that object of its type supporrt .\n",
    "object - Object have state and behaviour.\n",
    "\n",
    "For example - A dog has states like color,name,breed as well as behaviour wagging the tail, barking ,eating."
   ]
  },
  {
   "cell_type": "code",
   "execution_count": null,
   "id": "80ca1c33-8773-4c48-95f6-b2edd42c4493",
   "metadata": {},
   "outputs": [],
   "source": [
    "# Ans 2\n",
    "\n",
    "1) inheritance \n",
    "2) polymorphism\n",
    "3) encapsulation\n",
    "4) abstraction"
   ]
  },
  {
   "cell_type": "code",
   "execution_count": 1,
   "id": "684d36df-446e-4063-a64b-2d262d1cc636",
   "metadata": {},
   "outputs": [],
   "source": [
    "# Ans 3\n",
    "\n",
    "All classes have a function called __init__(), which is always executed when the class is being initiated.\n",
    "\n"
   ]
  },
  {
   "cell_type": "code",
   "execution_count": 2,
   "id": "84c5fdc9-0eca-4107-9f7b-17dc7b32ee3f",
   "metadata": {},
   "outputs": [],
   "source": [
    "# example of __init__\n",
    "\n",
    "class vehicles :\n",
    "    \n",
    "    def __init__(self , name_of_vehicles , average_price , colour_name  ):\n",
    "        self.name_of_vehicles = name_of_vehicles\n",
    "        self.average_price = average_price\n",
    "        self.colour_name = colour_name \n",
    "        \n",
    "        \n",
    "        \n",
    "    def return_vehicles_details(self) :\n",
    "        return self.name_of_vehicles ,self.colour_name , self.average_price "
   ]
  },
  {
   "cell_type": "code",
   "execution_count": 3,
   "id": "73851a25-346e-416d-8add-08905e93650d",
   "metadata": {},
   "outputs": [],
   "source": [
    "TVS = vehicles(\"Victor\" , \"Black\" , 80000 )"
   ]
  },
  {
   "cell_type": "code",
   "execution_count": 5,
   "id": "234b5a26-12dd-431c-92d5-5010760869dd",
   "metadata": {},
   "outputs": [
    {
     "data": {
      "text/plain": [
       "('Victor', 80000, 'Black')"
      ]
     },
     "execution_count": 5,
     "metadata": {},
     "output_type": "execute_result"
    }
   ],
   "source": [
    "TVS.return_vehicles_details()"
   ]
  },
  {
   "cell_type": "code",
   "execution_count": null,
   "id": "0f2a5a32-1a02-470f-8672-178f5b8e7d20",
   "metadata": {},
   "outputs": [],
   "source": [
    "# Ans 4\n",
    "\n",
    "Self is used to represent the instence of the class "
   ]
  },
  {
   "cell_type": "code",
   "execution_count": null,
   "id": "371c750f-0d62-4e72-8388-158286885b97",
   "metadata": {},
   "outputs": [],
   "source": [
    "# Ans 5\n",
    "Inheritance = Inheritance is a mechanism in which one class acquires the property of another class.\n",
    "\n",
    "\n"
   ]
  }
 ],
 "metadata": {
  "kernelspec": {
   "display_name": "Python 3 (ipykernel)",
   "language": "python",
   "name": "python3"
  },
  "language_info": {
   "codemirror_mode": {
    "name": "ipython",
    "version": 3
   },
   "file_extension": ".py",
   "mimetype": "text/x-python",
   "name": "python",
   "nbconvert_exporter": "python",
   "pygments_lexer": "ipython3",
   "version": "3.10.8"
  }
 },
 "nbformat": 4,
 "nbformat_minor": 5
}
